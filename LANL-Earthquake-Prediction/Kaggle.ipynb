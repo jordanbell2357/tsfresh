{
 "cells": [
  {
   "cell_type": "code",
   "execution_count": null,
   "metadata": {},
   "outputs": [],
   "source": []
  },
  {
   "cell_type": "markdown",
   "metadata": {},
   "source": [
    "https://www.kaggle.com/code/jordanbell2357/using-tsfresh-time-series-feature-engineering/edit\n",
    "\n",
    "https://www.kaggle.com/code/chandrimad31/time-series-feature-engineering-lanl-eq-data"
   ]
  }
 ],
 "metadata": {
  "language_info": {
   "name": "python"
  },
  "orig_nbformat": 4
 },
 "nbformat": 4,
 "nbformat_minor": 2
}
